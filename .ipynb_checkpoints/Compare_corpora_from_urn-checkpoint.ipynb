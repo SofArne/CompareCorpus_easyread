{
 "cells": [
  {
   "cell_type": "markdown",
   "metadata": {},
   "source": [
    "## Compare corpus from URN\n"
   ]
  },
  {
   "cell_type": "code",
   "execution_count": 2,
   "metadata": {},
   "outputs": [],
   "source": [
    "import nbtext as nb\n",
    "from nbtext import get_urns_from_text, Corpus_urn, get_urn\n",
    "\n",
    "%matplotlib inline"
   ]
  },
  {
   "cell_type": "code",
   "execution_count": 3,
   "metadata": {},
   "outputs": [],
   "source": [
    "# finn rett sti til mappen med word-filer, og erstatt den med den som ligger her\n",
    "\n",
    "urns = get_urns_from_text('./urner_lettlest.txt')"
   ]
  },
  {
   "cell_type": "code",
   "execution_count": 4,
   "metadata": {},
   "outputs": [],
   "source": [
    "# lager et referansekorpus\n",
    "\n",
    "refurns = nb.get_urn({'year':1970, 'next':60, 'ddk':\"839%\", 'limit':200})"
   ]
  },
  {
   "cell_type": "code",
   "execution_count": 170,
   "metadata": {},
   "outputs": [],
   "source": [
    "# lager et referansekorpus\n",
    "\n",
    "refurns_filosofi = nb.get_urn({'year':1970, 'next':60, 'ddk':\"808%\", 'limit':200})\n",
    "reference_philosopy = [r[0] for r in refurns_filosofi]"
   ]
  },
  {
   "cell_type": "code",
   "execution_count": 7,
   "metadata": {},
   "outputs": [],
   "source": [
    "reference = [r[0] for r in refurns]"
   ]
  },
  {
   "cell_type": "markdown",
   "metadata": {},
   "source": [
    "Selve korpusene bygges på forskjellige måter, her ved å sammenligne lettlest mot referanse "
   ]
  },
  {
   "cell_type": "code",
   "execution_count": 8,
   "metadata": {},
   "outputs": [],
   "source": [
    "lettlest = Corpus_urn(\n",
    "    urns = urns,\n",
    "    ref_urns = reference\n",
    ")"
   ]
  },
  {
   "cell_type": "code",
   "execution_count": null,
   "metadata": {},
   "outputs": [],
   "source": []
  },
  {
   "cell_type": "code",
   "execution_count": 14,
   "metadata": {},
   "outputs": [
    {
     "data": {
      "text/html": [
       "Hubert, lesehesten, Manolo, Les, www.aschehoug, Jake, Dinodino, Dreamteam, Pablo, Stefan, www.lesehestene, Dinotjukken, Jonathan, Ridder, Livia, Nick, Dinokjappen, Aisha, Elin, Dinospretten, Maximum, Dinodykkeren, Reinald, Marc, Lou, faktahest, Næjla, Arm, Lucy, Grete, Marandon, Raphael, Kiriki, Saladin, Vaktsomme, Martine, Kjell-Aksel, Amanda, Real, Noller, Silva, Rickard, Silje, Dinofemmeren, Sekir, Sally, Carina, Bobby, Tharald, dinosauren, Matros, keeperen, frukten, Solbriller, dragen, Ismael, riddere, Meg, Edu, krigere, Hiram, Reven, Kam, Saladins, Carlos, Stjernemannen, Kopperbyen, Blåtann, Tommen, promp, Baybar, Kjell-, Ibelin, Guy, spillerne, Pico, Svartfjellene, José, musene, Mister, ullen, Bohemond, grisebjørnen, Gule, Fjær, Prinsesse, GLENN, RINGTVED, Lommen, Guro, P, Bjørnar, Eik, jeger, Tollef, spansk, Rufsen, Uxo, Buken, promper, Eid, Tjukken, pilene, treningen, prompen, Astriid, verftet, Bu, Kain, Thabet, Lynvinge, Atletico, prompe, reinen, Winter, Bo, Lykken, tubaen, Schanke, Federico, Ps, Brown, vikaren, Vinterhauk, Mikkelsen, Pysj, Nielsen, Minna, greina, Schmied, dragene, Stuffer, Ronny, Gleason, Eames, mokasiner, Besta, SPYTT, Morta, nattmåkene, slangen, kj, dinosaur, prinsessa, sjørøverne, teatersjefen, Krøll-Lisa, Fuglefjellet, Magnhild, Karle, merkte, banen, Knossos, ålene, Kriistiin, Lillebror, Claes, Smeden, vakta, sidelinjen, Sylvia, Bratt, Gutter, Bernardo, Pop, keeper, inn-til, Musene, Hannhjorten, hjellen, vågde, lavaen, dinosaurene, Sjørøverne, prompet, oksygen, Seter-heimen, Laban, orten, Cerbulo, Neptun, Åkre, nisse, nda, tannlegen, Veronika, Leifern, Hoel, Hannhj, Ritt, kvit-øyene, spanjolen, maktene, brødet, Holmås, Bisk, sjamanbjørnen, Karianne, Nilsen, gasser"
      ],
      "text/plain": [
       "<IPython.core.display.HTML object>"
      ]
     },
     "execution_count": 14,
     "metadata": {},
     "output_type": "execute_result"
    }
   ],
   "source": [
    "lettlest.difference()"
   ]
  },
  {
   "cell_type": "code",
   "execution_count": 252,
   "metadata": {},
   "outputs": [
    {
     "data": {
      "image/png": "[encoded data removed]",
      "text/plain": [
       "<Figure size 432x288 with 1 Axes>"
      ]
     },
     "metadata": {},
     "output_type": "display_data"
    }
   ],
   "source": [
    "lettlest.search_words( ['hennes','hans','ham','hun','han','Han','Hun', '.', ',','og','i']).plot(kind='bar');"
   ]
  },
  {
   "cell_type": "code",
   "execution_count": 16,
   "metadata": {},
   "outputs": [],
   "source": [
    "f = nb.get_corpus_text(urns)\n",
    "\n",
    "nb.normalize_corpus_dataframe(f)"
   ]
  },
  {
   "cell_type": "code",
   "execution_count": 29,
   "metadata": {},
   "outputs": [
    {
     "data": {
      "text/plain": [
       "True"
      ]
     },
     "execution_count": 29,
     "metadata": {},
     "output_type": "execute_result"
    }
   ],
   "source": [
    "r = nb.get_corpus_text(reference)\n",
    "nb.normalize_corpus_dataframe(r)"
   ]
  },
  {
   "cell_type": "code",
   "execution_count": 171,
   "metadata": {},
   "outputs": [
    {
     "data": {
      "text/plain": [
       "True"
      ]
     },
     "execution_count": 171,
     "metadata": {},
     "output_type": "execute_result"
    }
   ],
   "source": [
    "rfil = nb.get_corpus_text(reference_philosopy)\n",
    "nb.normalize_corpus_dataframe(rfil)"
   ]
  },
  {
   "cell_type": "markdown",
   "metadata": {},
   "source": [
    "## Her får vi litt statistikk\n",
    "\n",
    "Kanskje ikke så nødvendig. Argumentet kan gjøres rundt histogrammene, der distribusjonene kommer klarere frem"
   ]
  },
  {
   "cell_type": "code",
   "execution_count": 27,
   "metadata": {},
   "outputs": [],
   "source": [
    "fstat = f.transpose().describe()"
   ]
  },
  {
   "cell_type": "code",
   "execution_count": 30,
   "metadata": {},
   "outputs": [],
   "source": [
    "rstat = r.transpose().describe()"
   ]
  },
  {
   "cell_type": "code",
   "execution_count": 173,
   "metadata": {},
   "outputs": [],
   "source": [
    "rfilstat = rfil.transpose().describe()"
   ]
  },
  {
   "cell_type": "code",
   "execution_count": 31,
   "metadata": {},
   "outputs": [
    {
     "data": {
      "text/plain": [
       "count    200.000000\n",
       "mean       0.084651\n",
       "std        0.041713\n",
       "min        0.000000\n",
       "25%        0.065390\n",
       "50%        0.080743\n",
       "75%        0.097636\n",
       "max        0.452830\n",
       "Name: ., dtype: float64"
      ]
     },
     "execution_count": 31,
     "metadata": {},
     "output_type": "execute_result"
    }
   ],
   "source": [
    "rstat['.']"
   ]
  },
  {
   "cell_type": "code",
   "execution_count": 86,
   "metadata": {},
   "outputs": [
    {
     "data": {
      "text/plain": [
       "count    81.000000\n",
       "mean      0.110462\n",
       "std       0.020922\n",
       "min       0.071821\n",
       "25%       0.097661\n",
       "50%       0.109420\n",
       "75%       0.126602\n",
       "max       0.163251\n",
       "Name: ., dtype: float64"
      ]
     },
     "execution_count": 86,
     "metadata": {},
     "output_type": "execute_result"
    }
   ],
   "source": [
    "fstat['.']"
   ]
  },
  {
   "cell_type": "code",
   "execution_count": 174,
   "metadata": {},
   "outputs": [
    {
     "data": {
      "text/plain": [
       "count    199.000000\n",
       "mean       0.071157\n",
       "std        0.023105\n",
       "min        0.019843\n",
       "25%        0.056834\n",
       "50%        0.066185\n",
       "75%        0.080278\n",
       "max        0.157480\n",
       "Name: ., dtype: float64"
      ]
     },
     "execution_count": 174,
     "metadata": {},
     "output_type": "execute_result"
    }
   ],
   "source": [
    "rfilstat['.']"
   ]
  },
  {
   "cell_type": "code",
   "execution_count": 88,
   "metadata": {},
   "outputs": [
    {
     "data": {
      "text/plain": [
       "200"
      ]
     },
     "execution_count": 88,
     "metadata": {},
     "output_type": "execute_result"
    }
   ],
   "source": [
    "len(reference)"
   ]
  },
  {
   "cell_type": "markdown",
   "metadata": {},
   "source": [
    "## Her er kode for å beregne forholdet mellom tegn i en tekst"
   ]
  },
  {
   "cell_type": "code",
   "execution_count": 218,
   "metadata": {},
   "outputs": [],
   "source": [
    "import pandas as pd\n",
    "\n",
    "def ratio(frame, val1, val2):\n",
    "    return pd.DataFrame(frame.dropna()[val1]/frame.dropna()[val2]).dropna()"
   ]
  },
  {
   "cell_type": "code",
   "execution_count": 202,
   "metadata": {},
   "outputs": [],
   "source": [
    "import matplotlib.pyplot as plt\n",
    "import numpy as np\n",
    "import matplotlib.mlab as mlab\n",
    "import math\n",
    "import numpy as np\n",
    "import scipy.stats\n",
    "\n",
    "def nplot(dfstat, value):\n",
    "    \n",
    "\n",
    "    mu = dfstat[value]['mean'] \n",
    "    sigma = dfstat[value]['std']\n",
    "    x = np.linspace(mu - 3*sigma, mu + 3*sigma, 100)\n",
    "    ax = plt.subplot(111)\n",
    "    ax.plot(x, scipy.stats.norm.pdf(x, mu, sigma))\n",
    "    return ax\n",
    "\n",
    "def twoplot(onestat, twostat, value, legends=['target', 'reference']):\n",
    "    ax = plt.subplot(211)\n",
    "\n",
    "    one_mu = onestat[value][\"mean\"]\n",
    "    two_mu = twostat[value][\"mean\"]\n",
    "    one_sigma = onestat[value][\"std\"]\n",
    "    two_sigma = twostat[value][\"std\"]\n",
    "    mu = (one_mu + two_mu)/2\n",
    "    left_sigma = min(one_sigma, two_sigma)\n",
    "    right_sigma = max(one_sigma, two_sigma)\n",
    "    x =  np.linspace(mu - 4*left_sigma, mu + 4*right_sigma, 100)\n",
    "    ax.plot(x, scipy.stats.norm.pdf(x, one_mu, one_sigma))\n",
    "    #ax2 = plt.subplot(212, sharex=ax1)\n",
    "    ax.plot(x, scipy.stats.norm.pdf(x, two_mu, two_sigma))\n",
    "    ax.legend(legends)\n",
    "    return ax\n",
    "\n",
    "def histplot(numbers, bins=5, color='blue', axis = \"\", figsize=(30,8)):\n",
    "    if axis == \"\":\n",
    "        fig = plt.figure(figsize=figsize)\n",
    "        ax = fig.add_subplot(121)\n",
    "    else:\n",
    "        ax = axis\n",
    "    numBins = bins\n",
    "    ax.hist(numbers,density=True,bins=numBins, color=color,alpha=0.8)\n",
    "    return ax\n",
    "\n"
   ]
  },
  {
   "cell_type": "markdown",
   "metadata": {},
   "source": [
    "## Plott histogrammer for tegn som punktum og komma, i sammenligning med referanse. \n",
    "\n",
    "Måltekstene er i blå, og referansen orange. "
   ]
  },
  {
   "cell_type": "markdown",
   "metadata": {},
   "source": [
    "Her sjekker vi forholdet mellom punktum og komma som antall, punktum delt på antall komma - hvert dokument er knyttet til forholdstallet: $doc \\leftarrow\\frac{punktum}{komma}$. Jo mer punktum og færre komma, jo større blir verdien. Her forventes det at lettlest-tekster har større verdi enn referansen.\n",
    "\n",
    "I histogrammet gir tallet på x-aksen forholdstallet, og y-aksen gir antallet dokument. Histogrammene er relativisert for å kunne gjøre sammenligning, siden referansekorpuset er større enn målkorpuset.\n",
    "\n",
    "\n",
    "Ratioen forsterker effekten av at tekstene i lettlestkategorien\n",
    "har flere punktum og færre komma (relativt sett) enn i referansekategorien\n",
    "Her er referansene filosofi rundt litteratur, Dewey 808."
   ]
  },
  {
   "cell_type": "code",
   "execution_count": 258,
   "metadata": {},
   "outputs": [
    {
     "data": {
      "image/png": "[encoded data removed]",
      "text/plain": [
       "<Figure size 720x360 with 1 Axes>"
      ]
     },
     "metadata": {},
     "output_type": "display_data"
    }
   ],
   "source": [
    "plt.figure(figsize=(10,5))\n",
    "plt.hist(ratio(rfil.transpose(),'.',',')[0], bins=30, density=True, color='orange', alpha=0.6);\n",
    "plt.hist(ratio(f.transpose(),'.',',')[0], bins=15, density=True, color='blue', alpha=0.6);\n",
    "plt.tight_layout()"
   ]
  },
  {
   "cell_type": "markdown",
   "metadata": {},
   "source": [
    "Sammenligning av komma i de to kategoriene. Lettlest har færre komma."
   ]
  },
  {
   "cell_type": "code",
   "execution_count": 259,
   "metadata": {},
   "outputs": [
    {
     "data": {
      "image/png": "[encoded data removed]",
      "text/plain": [
       "<Figure size 720x360 with 1 Axes>"
      ]
     },
     "metadata": {},
     "output_type": "display_data"
    }
   ],
   "source": [
    "plt.figure(figsize=(10,5))\n",
    "plt.hist(f.transpose()[','], bins=15, density=True, color='blue', alpha=0.6);\n",
    "plt.hist(rfil.transpose().dropna()[','], bins=30, density=True, color='orange', alpha = 0.6);\n",
    "plt.tight_layout()"
   ]
  },
  {
   "cell_type": "markdown",
   "metadata": {},
   "source": [
    "Lettlest har flere punktum."
   ]
  },
  {
   "cell_type": "code",
   "execution_count": 260,
   "metadata": {},
   "outputs": [
    {
     "data": {
      "image/png": "[encoded data removed]",
      "text/plain": [
       "<Figure size 720x360 with 1 Axes>"
      ]
     },
     "metadata": {},
     "output_type": "display_data"
    }
   ],
   "source": [
    "plt.figure(figsize=(10,5))\n",
    "plt.hist(f.transpose()['.'], bins=15, density=True, color='blue', alpha=0.6);\n",
    "plt.hist(rfil.transpose().dropna()['.'], bins=30, density=True, color='orange', alpha = 0.6);\n",
    "plt.tight_layout()"
   ]
  },
  {
   "cell_type": "code",
   "execution_count": null,
   "metadata": {},
   "outputs": [],
   "source": []
  }
 ],
 "metadata": {
  "hide_input": false,
  "kernelspec": {
   "display_name": "Python 3",
   "language": "python",
   "name": "python3"
  },
  "language_info": {
   "codemirror_mode": {
    "name": "ipython",
    "version": 3
   },
   "file_extension": ".py",
   "mimetype": "text/x-python",
   "name": "python",
   "nbconvert_exporter": "python",
   "pygments_lexer": "ipython3",
   "version": "3.6.5"
  }
 },
 "nbformat": 4,
 "nbformat_minor": 2
}
