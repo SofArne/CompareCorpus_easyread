{
 "cells": [
  {
   "cell_type": "markdown",
   "metadata": {},
   "source": [
    "## Her prøver vi oss med Type Token Ratio\n"
   ]
  },
  {
   "cell_type": "code",
   "execution_count": 1,
   "metadata": {},
   "outputs": [],
   "source": [
    "import nbtext as nb\n",
    "from nbtext import get_urns_from_text, Corpus_urn, get_urn, sttr\n",
    "\n",
    "import matplotlib.pyplot as plt\n",
    "%matplotlib inline"
   ]
  },
  {
   "cell_type": "code",
   "execution_count": 2,
   "metadata": {},
   "outputs": [],
   "source": [
    "# finn rett sti til mappen med word-filer, og erstatt den med den som ligger her\n",
    "\n",
    "urns = get_urns_from_text('./urner_lettlest.txt' )"
   ]
  },
  {
   "cell_type": "code",
   "execution_count": 3,
   "metadata": {},
   "outputs": [],
   "source": [
    "# lager et referansekorpus\n",
    "\n",
    "refurns = nb.get_urn({'year':1970, 'next':60, 'ddk':\"839%\", 'limit':200})\n",
    "reference = [r[0] for r in refurns]"
   ]
  },
  {
   "cell_type": "code",
   "execution_count": 4,
   "metadata": {},
   "outputs": [],
   "source": [
    "# lager et referansekorpus\n",
    "\n",
    "refurns_filosofi = nb.get_urn({'year':1970, 'next':60, 'ddk':\"901%\", 'limit':200})\n",
    "reference_philosopy = [r[0] for r in refurns_filosofi]"
   ]
  },
  {
   "cell_type": "markdown",
   "metadata": {},
   "source": [
    "# Lager korpus\n",
    "\n",
    "Dataene brukes i sammenligningen kommer fra lister over URNer som ligger i fila *urner_lettlest.txt*, og fra Dewey 808 (tar med et sample fra Dewey 839 også, som kan brukes etterpå).\n",
    "\n",
    "WebDewey ligger [her](http://deweysearchno.pansoft.de/webdeweysearch/executeSearch.html?lastScheduleRecord=&lastTableRecord=&query=808.80384&catalogs=nb.no)"
   ]
  },
  {
   "cell_type": "code",
   "execution_count": 5,
   "metadata": {},
   "outputs": [],
   "source": [
    "u_ttr = {u:nb.sttr(u) for u in urns}"
   ]
  },
  {
   "cell_type": "code",
   "execution_count": 6,
   "metadata": {},
   "outputs": [],
   "source": [
    "r_ttr = {u:sttr(u) for u in reference_philosopy}"
   ]
  },
  {
   "cell_type": "markdown",
   "metadata": {},
   "source": [
    "# STTR\n",
    "\n",
    "Her tas ut 5000 ord i gangen."
   ]
  },
  {
   "cell_type": "code",
   "execution_count": 7,
   "metadata": {},
   "outputs": [
    {
     "data": {
      "image/png": "[encoded data removed]",
      "text/plain": [
       "<Figure size 432x288 with 1 Axes>"
      ]
     },
     "metadata": {},
     "output_type": "display_data"
    }
   ],
   "source": [
    "plt.hist(u_ttr.values(), color='blue', density=True, alpha = 0.5);\n",
    "plt.hist(r_ttr.values(), color='orange', density = True, alpha=0.5);"
   ]
  },
  {
   "cell_type": "markdown",
   "metadata": {},
   "source": [
    "# Prøver en annen chunking\n",
    "\n",
    "Lavere chunking gir høyere TTR."
   ]
  },
  {
   "cell_type": "code",
   "execution_count": 8,
   "metadata": {},
   "outputs": [],
   "source": [
    "u_ttr_2 = {u:nb.sttr(u, chunk=2000) for u in urns}"
   ]
  },
  {
   "cell_type": "code",
   "execution_count": 9,
   "metadata": {},
   "outputs": [],
   "source": [
    "r_ttr_2 = {u:sttr(u, chunk=2000) for u in reference_philosopy}"
   ]
  },
  {
   "cell_type": "code",
   "execution_count": 10,
   "metadata": {},
   "outputs": [
    {
     "data": {
      "image/png": "[encoded data removed]",
      "text/plain": [
       "<Figure size 432x288 with 1 Axes>"
      ]
     },
     "metadata": {},
     "output_type": "display_data"
    }
   ],
   "source": [
    "plt.hist(u_ttr_2.values(), color='blue', density=True, alpha = 0.5);\n",
    "plt.hist(r_ttr_2.values(), color='orange', density = True, alpha=0.5);"
   ]
  },
  {
   "cell_type": "markdown",
   "metadata": {},
   "source": [
    "# Høyere chunking\n",
    "\n",
    "Høyere chunking skal gi lavere TTR, noe som blir tydeliggjort her hvor chunkstørrelsen er 20 000 ord."
   ]
  },
  {
   "cell_type": "code",
   "execution_count": 11,
   "metadata": {},
   "outputs": [],
   "source": [
    "u_ttr_3 = u_ttr = {u:nb.sttr(u, chunk=20000) for u in urns}"
   ]
  },
  {
   "cell_type": "code",
   "execution_count": 12,
   "metadata": {},
   "outputs": [],
   "source": [
    "r_ttr_3 = {u:sttr(u, chunk=20000) for u in reference_philosopy}"
   ]
  },
  {
   "cell_type": "code",
   "execution_count": 13,
   "metadata": {},
   "outputs": [
    {
     "data": {
      "image/png": "[encoded data removed]",
      "text/plain": [
       "<Figure size 432x288 with 1 Axes>"
      ]
     },
     "metadata": {},
     "output_type": "display_data"
    }
   ],
   "source": [
    "plt.hist(u_ttr_3.values(), color='blue', density=True, alpha = 0.5);\n",
    "plt.hist(r_ttr_3.values(), color='orange', density = True, alpha=0.5);"
   ]
  },
  {
   "cell_type": "markdown",
   "metadata": {},
   "source": [
    "## Prøver med et annet referansekorpus"
   ]
  },
  {
   "cell_type": "code",
   "execution_count": 17,
   "metadata": {},
   "outputs": [],
   "source": [
    "rk = get_urn({'year':1970, 'next':50, 'ddk':\"839%\", 'limit':81})\n",
    "rk_u = [r[0] for r in rk]"
   ]
  },
  {
   "cell_type": "code",
   "execution_count": 21,
   "metadata": {},
   "outputs": [],
   "source": [
    "rk_ttr = {u:sttr(u) for u in rk_u}"
   ]
  },
  {
   "cell_type": "code",
   "execution_count": 22,
   "metadata": {},
   "outputs": [
    {
     "data": {
      "image/png": "[encoded data removed]",
      "text/plain": [
       "<Figure size 432x288 with 1 Axes>"
      ]
     },
     "metadata": {},
     "output_type": "display_data"
    }
   ],
   "source": [
    "plt.hist(u_ttr.values(), color='blue', density = True, alpha = 0.5);\n",
    "plt.hist(rk_ttr.values(), color='orange', density = True, alpha=0.5);"
   ]
  },
  {
   "cell_type": "code",
   "execution_count": null,
   "metadata": {},
   "outputs": [],
   "source": []
  }
 ],
 "metadata": {
  "hide_input": false,
  "kernelspec": {
   "display_name": "Python 3",
   "language": "python",
   "name": "python3"
  },
  "language_info": {
   "codemirror_mode": {
    "name": "ipython",
    "version": 3
   },
   "file_extension": ".py",
   "mimetype": "text/x-python",
   "name": "python",
   "nbconvert_exporter": "python",
   "pygments_lexer": "ipython3",
   "version": "3.6.4"
  }
 },
 "nbformat": 4,
 "nbformat_minor": 2
}
