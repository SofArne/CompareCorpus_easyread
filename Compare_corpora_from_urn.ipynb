{
 "cells": [
  {
   "cell_type": "markdown",
   "metadata": {},
   "source": [
    "## Compare corpus from URN\n"
   ]
  },
  {
   "cell_type": "code",
   "execution_count": 2,
   "metadata": {},
   "outputs": [],
   "source": [
    "import nbtext as nb\n",
    "from nbtext import get_urns_from_text, Corpus_urn, get_urn\n",
    "%matplotlib inline"
   ]
  },
  {
   "cell_type": "code",
   "execution_count": 3,
   "metadata": {},
   "outputs": [],
   "source": [
    "# finn rett sti til mappen med word-filer, og erstatt den med den som ligger her\n",
    "\n",
    "urns = get_urns_from_text('./urner_lettlest.txt')"
   ]
  },
  {
   "cell_type": "code",
   "execution_count": 4,
   "metadata": {},
   "outputs": [],
   "source": [
    "# lager et referansekorpus\n",
    "\n",
    "refurns = nb.get_urn({'year':1970, 'next':60, 'ddk':\"839%\", 'limit':200})"
   ]
  },
  {
   "cell_type": "code",
   "execution_count": 170,
   "metadata": {},
   "outputs": [],
   "source": [
    "# lager et referansekorpus\n",
    "\n",
    "refurns_filosofi = nb.get_urn({'year':1970, 'next':60, 'ddk':\"808%\", 'limit':200})\n",
    "reference_philosopy = [r[0] for r in refurns_filosofi]"
   ]
  },
  {
   "cell_type": "code",
   "execution_count": 7,
   "metadata": {},
   "outputs": [],
   "source": [
    "reference = [r[0] for r in refurns]"
   ]
  },
  {
   "cell_type": "markdown",
   "metadata": {},
   "source": [
    "Selve korpusene bygges på forskjellige måter, her ved å sammenligne lettlest mot referanse "
   ]
  },
  {
   "cell_type": "code",
   "execution_count": 8,
   "metadata": {},
   "outputs": [],
   "source": [
    "lettlest = Corpus_urn(\n",
    "    urns = urns,\n",
    "    ref_urns = reference\n",
    ")"
   ]
  },
  {
   "cell_type": "code",
   "execution_count": null,
   "metadata": {},
   "outputs": [],
   "source": []
  },
  {
   "cell_type": "markdown",
   "metadata": {},
   "source": [
    "En liten kommando for å sjekke ord mot kvinnekorpus og mannskorpus"
   ]
  },
  {
   "cell_type": "code",
   "execution_count": 9,
   "metadata": {},
   "outputs": [],
   "source": [
    "def check(target=\"\", reference=\"\", vals=[\n",
    "    '.'\n",
    "]):\n",
    "    #vals = ['hennes','hans','ham','hun','han','Han','Hun']\n",
    "    kv = check_vals(target, vals)\n",
    "    me = check_vals(reference, vals)\n",
    "    me.columns = ['reference']\n",
    "    kv.columns = ['target']\n",
    "    return me.join(kv)"
   ]
  },
  {
   "cell_type": "markdown",
   "metadata": {},
   "source": [
    "Plotter forskjellene på bestemte ord og undersøker korpuset den veien."
   ]
  },
  {
   "cell_type": "code",
   "execution_count": 14,
   "metadata": {},
   "outputs": [
    {
     "data": {
      "text/html": [
       "Hubert, lesehesten, Manolo, Les, www.aschehoug, Jake, Dinodino, Dreamteam, Pablo, Stefan, www.lesehestene, Dinotjukken, Jonathan, Ridder, Livia, Nick, Dinokjappen, Aisha, Elin, Dinospretten, Maximum, Dinodykkeren, Reinald, Marc, Lou, faktahest, Næjla, Arm, Lucy, Grete, Marandon, Raphael, Kiriki, Saladin, Vaktsomme, Martine, Kjell-Aksel, Amanda, Real, Noller, Silva, Rickard, Silje, Dinofemmeren, Sekir, Sally, Carina, Bobby, Tharald, dinosauren, Matros, keeperen, frukten, Solbriller, dragen, Ismael, riddere, Meg, Edu, krigere, Hiram, Reven, Kam, Saladins, Carlos, Stjernemannen, Kopperbyen, Blåtann, Tommen, promp, Baybar, Kjell-, Ibelin, Guy, spillerne, Pico, Svartfjellene, José, musene, Mister, ullen, Bohemond, grisebjørnen, Gule, Fjær, Prinsesse, GLENN, RINGTVED, Lommen, Guro, P, Bjørnar, Eik, jeger, Tollef, spansk, Rufsen, Uxo, Buken, promper, Eid, Tjukken, pilene, treningen, prompen, Astriid, verftet, Bu, Kain, Thabet, Lynvinge, Atletico, prompe, reinen, Winter, Bo, Lykken, tubaen, Schanke, Federico, Ps, Brown, vikaren, Vinterhauk, Mikkelsen, Pysj, Nielsen, Minna, greina, Schmied, dragene, Stuffer, Ronny, Gleason, Eames, mokasiner, Besta, SPYTT, Morta, nattmåkene, slangen, kj, dinosaur, prinsessa, sjørøverne, teatersjefen, Krøll-Lisa, Fuglefjellet, Magnhild, Karle, merkte, banen, Knossos, ålene, Kriistiin, Lillebror, Claes, Smeden, vakta, sidelinjen, Sylvia, Bratt, Gutter, Bernardo, Pop, keeper, inn-til, Musene, Hannhjorten, hjellen, vågde, lavaen, dinosaurene, Sjørøverne, prompet, oksygen, Seter-heimen, Laban, orten, Cerbulo, Neptun, Åkre, nisse, nda, tannlegen, Veronika, Leifern, Hoel, Hannhj, Ritt, kvit-øyene, spanjolen, maktene, brødet, Holmås, Bisk, sjamanbjørnen, Karianne, Nilsen, gasser"
      ],
      "text/plain": [
       "<IPython.core.display.HTML object>"
      ]
     },
     "execution_count": 14,
     "metadata": {},
     "output_type": "execute_result"
    }
   ],
   "source": [
    "lettlest.difference()"
   ]
  },
  {
   "cell_type": "code",
   "execution_count": 15,
   "metadata": {},
   "outputs": [
    {
     "data": {
      "text/plain": [
       "<matplotlib.axes._subplots.AxesSubplot at 0x1dd22ed86a0>"
      ]
     },
     "execution_count": 15,
     "metadata": {},
     "output_type": "execute_result"
    },
    {
     "data": {
      "image/png": "[encoded data removed]",
      "text/plain": [
       "<Figure size 432x288 with 1 Axes>"
      ]
     },
     "metadata": {},
     "output_type": "display_data"
    }
   ],
   "source": [
    "lettlest.search_words( ['hennes','hans','ham','hun','han','Han','Hun', '.', ',','og','i']).plot(kind='bar')"
   ]
  },
  {
   "cell_type": "code",
   "execution_count": 16,
   "metadata": {},
   "outputs": [],
   "source": [
    "f = nb.get_corpus_text(urns)"
   ]
  },
  {
   "cell_type": "code",
   "execution_count": 18,
   "metadata": {},
   "outputs": [
    {
     "data": {
      "text/plain": [
       "True"
      ]
     },
     "execution_count": 18,
     "metadata": {},
     "output_type": "execute_result"
    }
   ],
   "source": [
    "nb.normalize_corpus_dataframe(f)"
   ]
  },
  {
   "cell_type": "code",
   "execution_count": 29,
   "metadata": {},
   "outputs": [
    {
     "data": {
      "text/plain": [
       "True"
      ]
     },
     "execution_count": 29,
     "metadata": {},
     "output_type": "execute_result"
    }
   ],
   "source": [
    "r = nb.get_corpus_text(reference)\n",
    "nb.normalize_corpus_dataframe(r)"
   ]
  },
  {
   "cell_type": "code",
   "execution_count": 171,
   "metadata": {},
   "outputs": [
    {
     "data": {
      "text/plain": [
       "True"
      ]
     },
     "execution_count": 171,
     "metadata": {},
     "output_type": "execute_result"
    }
   ],
   "source": [
    "rfil = nb.get_corpus_text(reference_philosopy)\n",
    "nb.normalize_corpus_dataframe(rfil)"
   ]
  },
  {
   "cell_type": "code",
   "execution_count": 27,
   "metadata": {},
   "outputs": [],
   "source": [
    "fstat = f.transpose().describe()"
   ]
  },
  {
   "cell_type": "code",
   "execution_count": 30,
   "metadata": {},
   "outputs": [],
   "source": [
    "rstat = r.transpose().describe()"
   ]
  },
  {
   "cell_type": "code",
   "execution_count": 173,
   "metadata": {},
   "outputs": [],
   "source": [
    "rfilstat = rfil.transpose().describe()"
   ]
  },
  {
   "cell_type": "code",
   "execution_count": 31,
   "metadata": {},
   "outputs": [
    {
     "data": {
      "text/plain": [
       "count    200.000000\n",
       "mean       0.084651\n",
       "std        0.041713\n",
       "min        0.000000\n",
       "25%        0.065390\n",
       "50%        0.080743\n",
       "75%        0.097636\n",
       "max        0.452830\n",
       "Name: ., dtype: float64"
      ]
     },
     "execution_count": 31,
     "metadata": {},
     "output_type": "execute_result"
    }
   ],
   "source": [
    "rstat['.']"
   ]
  },
  {
   "cell_type": "code",
   "execution_count": 86,
   "metadata": {},
   "outputs": [
    {
     "data": {
      "text/plain": [
       "count    81.000000\n",
       "mean      0.110462\n",
       "std       0.020922\n",
       "min       0.071821\n",
       "25%       0.097661\n",
       "50%       0.109420\n",
       "75%       0.126602\n",
       "max       0.163251\n",
       "Name: ., dtype: float64"
      ]
     },
     "execution_count": 86,
     "metadata": {},
     "output_type": "execute_result"
    }
   ],
   "source": [
    "fstat['.']"
   ]
  },
  {
   "cell_type": "code",
   "execution_count": 174,
   "metadata": {},
   "outputs": [
    {
     "data": {
      "text/plain": [
       "count    199.000000\n",
       "mean       0.071157\n",
       "std        0.023105\n",
       "min        0.019843\n",
       "25%        0.056834\n",
       "50%        0.066185\n",
       "75%        0.080278\n",
       "max        0.157480\n",
       "Name: ., dtype: float64"
      ]
     },
     "execution_count": 174,
     "metadata": {},
     "output_type": "execute_result"
    }
   ],
   "source": [
    "rfilstat['.']"
   ]
  },
  {
   "cell_type": "code",
   "execution_count": 88,
   "metadata": {},
   "outputs": [
    {
     "data": {
      "text/plain": [
       "200"
      ]
     },
     "execution_count": 88,
     "metadata": {},
     "output_type": "execute_result"
    }
   ],
   "source": [
    "len(reference)"
   ]
  },
  {
   "cell_type": "code",
   "execution_count": 33,
   "metadata": {},
   "outputs": [
    {
     "data": {
      "text/plain": [
       "81.0"
      ]
     },
     "execution_count": 33,
     "metadata": {},
     "output_type": "execute_result"
    }
   ],
   "source": [
    "fstat['.']['count']"
   ]
  },
  {
   "cell_type": "code",
   "execution_count": 189,
   "metadata": {},
   "outputs": [],
   "source": [
    "import matplotlib.pyplot as plt\n",
    "import numpy as np\n",
    "import matplotlib.mlab as mlab\n",
    "import math\n",
    "import numpy as np\n",
    "import scipy.stats\n",
    "\n",
    "def nplot(dfstat, value):\n",
    "    \n",
    "\n",
    "    mu = dfstat[value]['mean'] \n",
    "    sigma = dfstat[value]['std']\n",
    "    x = np.linspace(mu - 3*sigma, mu + 3*sigma, 100)\n",
    "    ax = plt.subplot(111)\n",
    "    ax.plot(x, scipy.stats.norm.pdf(x, mu, sigma))\n",
    "    return ax\n",
    "\n",
    "def twoplot(onestat, twostat, value, legends=['target', 'reference']):\n",
    "    ax = plt.subplot(211)\n",
    "\n",
    "    one_mu = onestat[value][\"mean\"]\n",
    "    two_mu = twostat[value][\"mean\"]\n",
    "    one_sigma = onestat[value][\"std\"]\n",
    "    two_sigma = twostat[value][\"std\"]\n",
    "    mu = (one_mu + two_mu)/2\n",
    "    left_sigma = min(one_sigma, two_sigma)\n",
    "    right_sigma = max(one_sigma, two_sigma)\n",
    "    x =  np.linspace(mu - 4*left_sigma, mu + 4*right_sigma, 100)\n",
    "    ax.plot(x, scipy.stats.norm.pdf(x, one_mu, one_sigma))\n",
    "    #ax2 = plt.subplot(212, sharex=ax1)\n",
    "    ax.plot(x, scipy.stats.norm.pdf(x, two_mu, two_sigma))\n",
    "    ax.legend(legends)\n",
    "    return ax\n",
    "\n",
    "def histplot(fstat, value, bins=5, color='blue', axis = \"\", figsize=(30,8)):\n",
    "    if axis == \"\":\n",
    "        f = plt.figure(figsize=figsize)\n",
    "        ax = f.add_subplot(121)\n",
    "    else:\n",
    "        ax = axis\n",
    "    numBins = bins\n",
    "    ax.hist(fstat[value].dropna(),density=True,bins=numBins, color=color,alpha=0.8)\n",
    "    return ax\n",
    "\n"
   ]
  },
  {
   "cell_type": "code",
   "execution_count": 190,
   "metadata": {},
   "outputs": [
    {
     "data": {
      "text/plain": [
       "<matplotlib.axes._subplots.AxesSubplot at 0x1dd229b0c50>"
      ]
     },
     "execution_count": 190,
     "metadata": {},
     "output_type": "execute_result"
    },
    {
     "data": {
      "image/png": "[encoded data removed]",
      "text/plain": [
       "<Figure size 2160x576 with 1 Axes>"
      ]
     },
     "metadata": {},
     "output_type": "display_data"
    }
   ],
   "source": [
    "a = histplot(f.transpose(),'.', bins=10, color='blue', figsize=(30,8))\n",
    "histplot(r.transpose(), '.', bins=20,color='orange', axis=a)"
   ]
  },
  {
   "cell_type": "code",
   "execution_count": 191,
   "metadata": {},
   "outputs": [
    {
     "data": {
      "text/plain": [
       "<matplotlib.axes._subplots.AxesSubplot at 0x1dd229850f0>"
      ]
     },
     "execution_count": 191,
     "metadata": {},
     "output_type": "execute_result"
    },
    {
     "data": {
      "image/png": "[encoded data removed]",
      "text/plain": [
       "<Figure size 2160x576 with 1 Axes>"
      ]
     },
     "metadata": {},
     "output_type": "display_data"
    }
   ],
   "source": [
    "a = histplot(f.transpose(),'.', bins=10, color='blue', figsize=(30,8))\n",
    "histplot(rfil.transpose(), '.', bins=20,color='orange', axis=a)"
   ]
  },
  {
   "cell_type": "code",
   "execution_count": 194,
   "metadata": {},
   "outputs": [
    {
     "data": {
      "text/plain": [
       "<matplotlib.axes._subplots.AxesSubplot at 0x1dd22c6c160>"
      ]
     },
     "execution_count": 194,
     "metadata": {},
     "output_type": "execute_result"
    },
    {
     "data": {
      "image/png": "[encoded data removed]",
      "text/plain": [
       "<Figure size 2160x576 with 1 Axes>"
      ]
     },
     "metadata": {},
     "output_type": "display_data"
    }
   ],
   "source": [
    "a = histplot(f.transpose(),',', bins=15, color='blue', figsize=(30,8))\n",
    "histplot(rfil.transpose(), ',', bins=30,color='orange', axis=a)"
   ]
  },
  {
   "cell_type": "code",
   "execution_count": 188,
   "metadata": {},
   "outputs": [
    {
     "data": {
      "text/plain": [
       "(array([ 7., 10., 57., 54., 34., 15., 11.,  8.,  2.,  1.]),\n",
       " array([0.01984294, 0.03360668, 0.04737041, 0.06113415, 0.07489789,\n",
       "        0.08866163, 0.10242536, 0.1161891 , 0.12995284, 0.14371658,\n",
       "        0.15748031]),\n",
       " <a list of 10 Patch objects>)"
      ]
     },
     "execution_count": 188,
     "metadata": {},
     "output_type": "execute_result"
    },
    {
     "data": {
      "image/png": "[encoded data removed]",
      "text/plain": [
       "<Figure size 432x288 with 1 Axes>"
      ]
     },
     "metadata": {},
     "output_type": "display_data"
    }
   ],
   "source": [
    "plt.hist(rfil.transpose().dropna()[\".\"])"
   ]
  },
  {
   "cell_type": "code",
   "execution_count": 182,
   "metadata": {},
   "outputs": [
    {
     "ename": "ValueError",
     "evalue": "max must be larger than min in range parameter.",
     "output_type": "error",
     "traceback": [
      "\u001b[1;31m---------------------------------------------------------------------------\u001b[0m",
      "\u001b[1;31mValueError\u001b[0m                                Traceback (most recent call last)",
      "\u001b[1;32m<ipython-input-182-47efac17d44a>\u001b[0m in \u001b[0;36m<module>\u001b[1;34m()\u001b[0m\n\u001b[1;32m----> 1\u001b[1;33m \u001b[0mhistplot\u001b[0m\u001b[1;33m(\u001b[0m\u001b[0mrfil\u001b[0m\u001b[1;33m.\u001b[0m\u001b[0mtranspose\u001b[0m\u001b[1;33m(\u001b[0m\u001b[1;33m)\u001b[0m\u001b[1;33m,\u001b[0m \u001b[1;34m'.'\u001b[0m\u001b[1;33m,\u001b[0m \u001b[0mbins\u001b[0m\u001b[1;33m=\u001b[0m\u001b[1;36m20\u001b[0m\u001b[1;33m,\u001b[0m \u001b[0mcolor\u001b[0m\u001b[1;33m=\u001b[0m\u001b[1;34m'orange'\u001b[0m\u001b[1;33m)\u001b[0m\u001b[1;33m\u001b[0m\u001b[0m\n\u001b[0m",
      "\u001b[1;32m<ipython-input-167-4f81d7d8996a>\u001b[0m in \u001b[0;36mhistplot\u001b[1;34m(fstat, value, bins, color, axis, figsize)\u001b[0m\n\u001b[0;32m     40\u001b[0m         \u001b[0max\u001b[0m \u001b[1;33m=\u001b[0m \u001b[0maxis\u001b[0m\u001b[1;33m\u001b[0m\u001b[0m\n\u001b[0;32m     41\u001b[0m     \u001b[0mnumBins\u001b[0m \u001b[1;33m=\u001b[0m \u001b[0mbins\u001b[0m\u001b[1;33m\u001b[0m\u001b[0m\n\u001b[1;32m---> 42\u001b[1;33m     \u001b[0max\u001b[0m\u001b[1;33m.\u001b[0m\u001b[0mhist\u001b[0m\u001b[1;33m(\u001b[0m\u001b[0mfstat\u001b[0m\u001b[1;33m[\u001b[0m\u001b[0mvalue\u001b[0m\u001b[1;33m]\u001b[0m\u001b[1;33m,\u001b[0m\u001b[0mdensity\u001b[0m\u001b[1;33m=\u001b[0m\u001b[1;32mTrue\u001b[0m\u001b[1;33m,\u001b[0m\u001b[0mbins\u001b[0m\u001b[1;33m=\u001b[0m\u001b[0mnumBins\u001b[0m\u001b[1;33m,\u001b[0m \u001b[0mcolor\u001b[0m\u001b[1;33m=\u001b[0m\u001b[0mcolor\u001b[0m\u001b[1;33m,\u001b[0m\u001b[0malpha\u001b[0m\u001b[1;33m=\u001b[0m\u001b[1;36m0.8\u001b[0m\u001b[1;33m)\u001b[0m\u001b[1;33m\u001b[0m\u001b[0m\n\u001b[0m\u001b[0;32m     43\u001b[0m     \u001b[1;32mreturn\u001b[0m \u001b[0max\u001b[0m\u001b[1;33m\u001b[0m\u001b[0m\n",
      "\u001b[1;32m~\\AppData\\Local\\Continuum\\anaconda3\\lib\\site-packages\\matplotlib\\__init__.py\u001b[0m in \u001b[0;36minner\u001b[1;34m(ax, *args, **kwargs)\u001b[0m\n\u001b[0;32m   1853\u001b[0m                         \u001b[1;34m\"the Matplotlib list!)\"\u001b[0m \u001b[1;33m%\u001b[0m \u001b[1;33m(\u001b[0m\u001b[0mlabel_namer\u001b[0m\u001b[1;33m,\u001b[0m \u001b[0mfunc\u001b[0m\u001b[1;33m.\u001b[0m\u001b[0m__name__\u001b[0m\u001b[1;33m)\u001b[0m\u001b[1;33m,\u001b[0m\u001b[1;33m\u001b[0m\u001b[0m\n\u001b[0;32m   1854\u001b[0m                         RuntimeWarning, stacklevel=2)\n\u001b[1;32m-> 1855\u001b[1;33m             \u001b[1;32mreturn\u001b[0m \u001b[0mfunc\u001b[0m\u001b[1;33m(\u001b[0m\u001b[0max\u001b[0m\u001b[1;33m,\u001b[0m \u001b[1;33m*\u001b[0m\u001b[0margs\u001b[0m\u001b[1;33m,\u001b[0m \u001b[1;33m**\u001b[0m\u001b[0mkwargs\u001b[0m\u001b[1;33m)\u001b[0m\u001b[1;33m\u001b[0m\u001b[0m\n\u001b[0m\u001b[0;32m   1856\u001b[0m \u001b[1;33m\u001b[0m\u001b[0m\n\u001b[0;32m   1857\u001b[0m         inner.__doc__ = _add_data_doc(inner.__doc__,\n",
      "\u001b[1;32m~\\AppData\\Local\\Continuum\\anaconda3\\lib\\site-packages\\matplotlib\\axes\\_axes.py\u001b[0m in \u001b[0;36mhist\u001b[1;34m(***failed resolving arguments***)\u001b[0m\n\u001b[0;32m   6528\u001b[0m             \u001b[1;31m# this will automatically overwrite bins,\u001b[0m\u001b[1;33m\u001b[0m\u001b[1;33m\u001b[0m\u001b[0m\n\u001b[0;32m   6529\u001b[0m             \u001b[1;31m# so that each histogram uses the same bins\u001b[0m\u001b[1;33m\u001b[0m\u001b[1;33m\u001b[0m\u001b[0m\n\u001b[1;32m-> 6530\u001b[1;33m             \u001b[0mm\u001b[0m\u001b[1;33m,\u001b[0m \u001b[0mbins\u001b[0m \u001b[1;33m=\u001b[0m \u001b[0mnp\u001b[0m\u001b[1;33m.\u001b[0m\u001b[0mhistogram\u001b[0m\u001b[1;33m(\u001b[0m\u001b[0mx\u001b[0m\u001b[1;33m[\u001b[0m\u001b[0mi\u001b[0m\u001b[1;33m]\u001b[0m\u001b[1;33m,\u001b[0m \u001b[0mbins\u001b[0m\u001b[1;33m,\u001b[0m \u001b[0mweights\u001b[0m\u001b[1;33m=\u001b[0m\u001b[0mw\u001b[0m\u001b[1;33m[\u001b[0m\u001b[0mi\u001b[0m\u001b[1;33m]\u001b[0m\u001b[1;33m,\u001b[0m \u001b[1;33m**\u001b[0m\u001b[0mhist_kwargs\u001b[0m\u001b[1;33m)\u001b[0m\u001b[1;33m\u001b[0m\u001b[0m\n\u001b[0m\u001b[0;32m   6531\u001b[0m             \u001b[0mm\u001b[0m \u001b[1;33m=\u001b[0m \u001b[0mm\u001b[0m\u001b[1;33m.\u001b[0m\u001b[0mastype\u001b[0m\u001b[1;33m(\u001b[0m\u001b[0mfloat\u001b[0m\u001b[1;33m)\u001b[0m  \u001b[1;31m# causes problems later if it's an int\u001b[0m\u001b[1;33m\u001b[0m\u001b[0m\n\u001b[0;32m   6532\u001b[0m             \u001b[1;32mif\u001b[0m \u001b[0mmlast\u001b[0m \u001b[1;32mis\u001b[0m \u001b[1;32mNone\u001b[0m\u001b[1;33m:\u001b[0m\u001b[1;33m\u001b[0m\u001b[0m\n",
      "\u001b[1;32m~\\AppData\\Local\\Continuum\\anaconda3\\lib\\site-packages\\numpy\\lib\\function_base.py\u001b[0m in \u001b[0;36mhistogram\u001b[1;34m(a, bins, range, normed, weights, density)\u001b[0m\n\u001b[0;32m    665\u001b[0m     \u001b[1;32mif\u001b[0m \u001b[0mfirst_edge\u001b[0m \u001b[1;33m>\u001b[0m \u001b[0mlast_edge\u001b[0m\u001b[1;33m:\u001b[0m\u001b[1;33m\u001b[0m\u001b[0m\n\u001b[0;32m    666\u001b[0m         raise ValueError(\n\u001b[1;32m--> 667\u001b[1;33m             'max must be larger than min in range parameter.')\n\u001b[0m\u001b[0;32m    668\u001b[0m     \u001b[1;32mif\u001b[0m \u001b[1;32mnot\u001b[0m \u001b[0mnp\u001b[0m\u001b[1;33m.\u001b[0m\u001b[0mall\u001b[0m\u001b[1;33m(\u001b[0m\u001b[0mnp\u001b[0m\u001b[1;33m.\u001b[0m\u001b[0misfinite\u001b[0m\u001b[1;33m(\u001b[0m\u001b[1;33m[\u001b[0m\u001b[0mfirst_edge\u001b[0m\u001b[1;33m,\u001b[0m \u001b[0mlast_edge\u001b[0m\u001b[1;33m]\u001b[0m\u001b[1;33m)\u001b[0m\u001b[1;33m)\u001b[0m\u001b[1;33m:\u001b[0m\u001b[1;33m\u001b[0m\u001b[0m\n\u001b[0;32m    669\u001b[0m         raise ValueError(\n",
      "\u001b[1;31mValueError\u001b[0m: max must be larger than min in range parameter."
     ]
    },
    {
     "data": {
      "image/png": "[encoded data removed]",
      "text/plain": [
       "<Figure size 2160x576 with 1 Axes>"
      ]
     },
     "metadata": {},
     "output_type": "display_data"
    }
   ],
   "source": [
    "histplot(rfil.transpose(), '.', bins=20, color='orange')"
   ]
  },
  {
   "cell_type": "code",
   "execution_count": 168,
   "metadata": {},
   "outputs": [
    {
     "data": {
      "text/plain": [
       "<matplotlib.axes._subplots.AxesSubplot at 0x1dd22ced198>"
      ]
     },
     "execution_count": 168,
     "metadata": {},
     "output_type": "execute_result"
    },
    {
     "data": {
      "image/png": "[encoded data removed]",
      "text/plain": [
       "<Figure size 2160x576 with 1 Axes>"
      ]
     },
     "metadata": {},
     "output_type": "display_data"
    }
   ],
   "source": [
    "a = histplot(f.transpose(),',', bins=10, color='blue')\n",
    "histplot(r.transpose(), ',', bins=20,color='orange', axis=a)"
   ]
  },
  {
   "cell_type": "code",
   "execution_count": 138,
   "metadata": {},
   "outputs": [
    {
     "data": {
      "text/plain": [
       "<matplotlib.axes._subplots.AxesSubplot at 0x1dd22e78470>"
      ]
     },
     "execution_count": 138,
     "metadata": {},
     "output_type": "execute_result"
    }
   ],
   "source": [
    "histplot(r.transpose(), '.', bins=10, axis=a)"
   ]
  },
  {
   "cell_type": "code",
   "execution_count": 143,
   "metadata": {},
   "outputs": [
    {
     "data": {
      "text/plain": [
       "<matplotlib.axes._subplots.AxesSubplot at 0x1dd22f24f98>"
      ]
     },
     "execution_count": 143,
     "metadata": {},
     "output_type": "execute_result"
    },
    {
     "data": {
      "image/png": "[encoded data removed]",
      "text/plain": [
       "<Figure size 432x288 with 1 Axes>"
      ]
     },
     "metadata": {},
     "output_type": "display_data"
    }
   ],
   "source": [
    "a = nplot(rstat, '.')\n",
    "histplot(r.transpose(), '.', axis=a)"
   ]
  },
  {
   "cell_type": "code",
   "execution_count": 144,
   "metadata": {},
   "outputs": [
    {
     "data": {
      "text/plain": [
       "<matplotlib.axes._subplots.AxesSubplot at 0x1dd22fa91d0>"
      ]
     },
     "execution_count": 144,
     "metadata": {},
     "output_type": "execute_result"
    },
    {
     "data": {
      "image/png": "[encoded data removed]",
      "text/plain": [
       "<Figure size 432x288 with 1 Axes>"
      ]
     },
     "metadata": {},
     "output_type": "display_data"
    }
   ],
   "source": [
    "ax = twoplot(fstat,rstat, '.')\n",
    "histplot(r.transpose(), '.', axis=ax)\n",
    "histplot(f.transpose(), '.', axis=ax)"
   ]
  },
  {
   "cell_type": "code",
   "execution_count": 113,
   "metadata": {},
   "outputs": [
    {
     "data": {
      "text/plain": [
       "2010050408081    0.114946\n",
       "2008030604009    0.112407\n",
       "2010052003119    0.106662\n",
       "2008020804058    0.089861\n",
       "2008011000089    0.110510\n",
       "2009093004032    0.136331\n",
       "2009030304067    0.086149\n",
       "2007081300029    0.110928\n",
       "2012121105068    0.118251\n",
       "2007111301009    0.109420\n",
       "2007081004056    0.143159\n",
       "2013013006060    0.132098\n",
       "2012092705081    0.081505\n",
       "2012112808086    0.104095\n",
       "2012112808117    0.112111\n",
       "2012121007004    0.104280\n",
       "2014070905019    0.101090\n",
       "2012062505048    0.152672\n",
       "2012092705069    0.115217\n",
       "2012092706103    0.115355\n",
       "2010050503036    0.100346\n",
       "2009042004082    0.133888\n",
       "2010022303036    0.088735\n",
       "2011070708028    0.079025\n",
       "2013082808049    0.137359\n",
       "2011060106065    0.113386\n",
       "2013061108167    0.133129\n",
       "2011060606073    0.071821\n",
       "2011071308024    0.098249\n",
       "2009021004116    0.143192\n",
       "                   ...   \n",
       "2013012506031    0.100455\n",
       "2013110405040    0.097661\n",
       "2013103006006    0.077832\n",
       "2014071107075    0.081612\n",
       "2013022506121    0.089180\n",
       "2013010408136    0.090683\n",
       "2013041206092    0.097749\n",
       "2013042506004    0.085610\n",
       "2013013105010    0.099931\n",
       "2013010308026    0.077146\n",
       "2014030506045    0.104761\n",
       "2012062205051    0.118412\n",
       "2010041906020    0.091770\n",
       "2010061808106    0.106912\n",
       "2009020904093    0.120405\n",
       "2009042804073    0.081277\n",
       "2008021804062    0.132930\n",
       "2012111506021    0.138207\n",
       "2013012306037    0.095492\n",
       "2013011506063    0.098941\n",
       "2007120704014    0.141529\n",
       "2012070606159    0.090802\n",
       "2009050800059    0.163251\n",
       "2012101908117    0.137018\n",
       "2009042800069    0.083280\n",
       "2007110800046    0.084251\n",
       "2007112101051    0.083568\n",
       "2007110901019    0.076738\n",
       "2007082400013    0.113111\n",
       "2007112601001    0.126602\n",
       "Name: ., Length: 81, dtype: float64"
      ]
     },
     "execution_count": 113,
     "metadata": {},
     "output_type": "execute_result"
    }
   ],
   "source": [
    "f.transpose()['.']"
   ]
  },
  {
   "cell_type": "code",
   "execution_count": 180,
   "metadata": {},
   "outputs": [
    {
     "data": {
      "text/plain": [
       "<matplotlib.axes._subplots.AxesSubplot at 0x1dd22cf57f0>"
      ]
     },
     "execution_count": 180,
     "metadata": {},
     "output_type": "execute_result"
    },
    {
     "data": {
      "image/png": "[encoded data removed]",
      "text/plain": [
       "<Figure size 432x288 with 1 Axes>"
      ]
     },
     "metadata": {},
     "output_type": "display_data"
    }
   ],
   "source": [
    "twoplot(fstat,rfilstat, ',')"
   ]
  },
  {
   "cell_type": "code",
   "execution_count": 118,
   "metadata": {},
   "outputs": [
    {
     "data": {
      "image/png": "[encoded data removed]",
      "text/plain": [
       "<Figure size 432x288 with 1 Axes>"
      ]
     },
     "metadata": {},
     "output_type": "display_data"
    }
   ],
   "source": [
    "nplot(fstat, '.')"
   ]
  },
  {
   "cell_type": "code",
   "execution_count": 119,
   "metadata": {},
   "outputs": [
    {
     "data": {
      "image/png": "[encoded data removed]",
      "text/plain": [
       "<Figure size 432x288 with 1 Axes>"
      ]
     },
     "metadata": {},
     "output_type": "display_data"
    }
   ],
   "source": [
    "nplot(rstat, '.')"
   ]
  },
  {
   "cell_type": "code",
   "execution_count": null,
   "metadata": {},
   "outputs": [],
   "source": []
  }
 ],
 "metadata": {
  "hide_input": false,
  "kernelspec": {
   "display_name": "Python 3",
   "language": "python",
   "name": "python3"
  },
  "language_info": {
   "codemirror_mode": {
    "name": "ipython",
    "version": 3
   },
   "file_extension": ".py",
   "mimetype": "text/x-python",
   "name": "python",
   "nbconvert_exporter": "python",
   "pygments_lexer": "ipython3",
   "version": "3.6.5"
  }
 },
 "nbformat": 4,
 "nbformat_minor": 2
}
