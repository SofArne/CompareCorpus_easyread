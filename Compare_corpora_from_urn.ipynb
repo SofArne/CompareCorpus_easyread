{
 "cells": [
  {
   "cell_type": "markdown",
   "metadata": {},
   "source": [
    "## Compare corpus from URN\n"
   ]
  },
  {
   "cell_type": "code",
   "execution_count": 2,
   "metadata": {},
   "outputs": [],
   "source": [
    "import nbtext as nb\n",
    "from nbtext import get_urns_from_text, Corpus_urn, get_urn\n",
    "\n",
    "%matplotlib inline"
   ]
  },
  {
   "cell_type": "code",
   "execution_count": 3,
   "metadata": {},
   "outputs": [],
   "source": [
    "# finn rett sti til mappen med word-filer, og erstatt den med den som ligger her\n",
    "\n",
    "urns = get_urns_from_text('./urner_lettlest.txt')"
   ]
  },
  {
   "cell_type": "code",
   "execution_count": 4,
   "metadata": {},
   "outputs": [],
   "source": [
    "# lager et referansekorpus\n",
    "\n",
    "refurns = nb.get_urn({'year':1970, 'next':60, 'ddk':\"839%\", 'limit':200})"
   ]
  },
  {
   "cell_type": "code",
   "execution_count": 170,
   "metadata": {},
   "outputs": [],
   "source": [
    "# lager et referansekorpus\n",
    "\n",
    "refurns_filosofi = nb.get_urn({'year':1970, 'next':60, 'ddk':\"808%\", 'limit':200})\n",
    "reference_philosopy = [r[0] for r in refurns_filosofi]"
   ]
  },
  {
   "cell_type": "code",
   "execution_count": 7,
   "metadata": {},
   "outputs": [],
   "source": [
    "reference = [r[0] for r in refurns]"
   ]
  },
  {
   "cell_type": "markdown",
   "metadata": {},
   "source": [
    "Selve korpusene bygges på forskjellige måter, her ved å sammenligne lettlest mot referanse "
   ]
  },
  {
   "cell_type": "code",
   "execution_count": 8,
   "metadata": {},
   "outputs": [],
   "source": [
    "lettlest = Corpus_urn(\n",
    "    urns = urns,\n",
    "    ref_urns = reference\n",
    ")"
   ]
  },
  {
   "cell_type": "code",
   "execution_count": null,
   "metadata": {},
   "outputs": [],
   "source": []
  },
  {
   "cell_type": "markdown",
   "metadata": {},
   "source": [
    "En liten kommando for å sjekke ord mot kvinnekorpus og mannskorpus"
   ]
  },
  {
   "cell_type": "code",
   "execution_count": 9,
   "metadata": {},
   "outputs": [],
   "source": [
    "def check(target=\"\", reference=\"\", vals=[\n",
    "    '.'\n",
    "]):\n",
    "    #vals = ['hennes','hans','ham','hun','han','Han','Hun']\n",
    "    kv = check_vals(target, vals)\n",
    "    me = check_vals(reference, vals)\n",
    "    me.columns = ['reference']\n",
    "    kv.columns = ['target']\n",
    "    return me.join(kv)"
   ]
  },
  {
   "cell_type": "markdown",
   "metadata": {},
   "source": [
    "Plotter forskjellene på bestemte ord og undersøker korpuset den veien."
   ]
  },
  {
   "cell_type": "code",
   "execution_count": 14,
   "metadata": {},
   "outputs": [
    {
     "data": {
      "text/html": [
       "Hubert, lesehesten, Manolo, Les, www.aschehoug, Jake, Dinodino, Dreamteam, Pablo, Stefan, www.lesehestene, Dinotjukken, Jonathan, Ridder, Livia, Nick, Dinokjappen, Aisha, Elin, Dinospretten, Maximum, Dinodykkeren, Reinald, Marc, Lou, faktahest, Næjla, Arm, Lucy, Grete, Marandon, Raphael, Kiriki, Saladin, Vaktsomme, Martine, Kjell-Aksel, Amanda, Real, Noller, Silva, Rickard, Silje, Dinofemmeren, Sekir, Sally, Carina, Bobby, Tharald, dinosauren, Matros, keeperen, frukten, Solbriller, dragen, Ismael, riddere, Meg, Edu, krigere, Hiram, Reven, Kam, Saladins, Carlos, Stjernemannen, Kopperbyen, Blåtann, Tommen, promp, Baybar, Kjell-, Ibelin, Guy, spillerne, Pico, Svartfjellene, José, musene, Mister, ullen, Bohemond, grisebjørnen, Gule, Fjær, Prinsesse, GLENN, RINGTVED, Lommen, Guro, P, Bjørnar, Eik, jeger, Tollef, spansk, Rufsen, Uxo, Buken, promper, Eid, Tjukken, pilene, treningen, prompen, Astriid, verftet, Bu, Kain, Thabet, Lynvinge, Atletico, prompe, reinen, Winter, Bo, Lykken, tubaen, Schanke, Federico, Ps, Brown, vikaren, Vinterhauk, Mikkelsen, Pysj, Nielsen, Minna, greina, Schmied, dragene, Stuffer, Ronny, Gleason, Eames, mokasiner, Besta, SPYTT, Morta, nattmåkene, slangen, kj, dinosaur, prinsessa, sjørøverne, teatersjefen, Krøll-Lisa, Fuglefjellet, Magnhild, Karle, merkte, banen, Knossos, ålene, Kriistiin, Lillebror, Claes, Smeden, vakta, sidelinjen, Sylvia, Bratt, Gutter, Bernardo, Pop, keeper, inn-til, Musene, Hannhjorten, hjellen, vågde, lavaen, dinosaurene, Sjørøverne, prompet, oksygen, Seter-heimen, Laban, orten, Cerbulo, Neptun, Åkre, nisse, nda, tannlegen, Veronika, Leifern, Hoel, Hannhj, Ritt, kvit-øyene, spanjolen, maktene, brødet, Holmås, Bisk, sjamanbjørnen, Karianne, Nilsen, gasser"
      ],
      "text/plain": [
       "<IPython.core.display.HTML object>"
      ]
     },
     "execution_count": 14,
     "metadata": {},
     "output_type": "execute_result"
    }
   ],
   "source": [
    "lettlest.difference()"
   ]
  },
  {
   "cell_type": "code",
   "execution_count": 15,
   "metadata": {},
   "outputs": [
    {
     "data": {
      "text/plain": [
       "<matplotlib.axes._subplots.AxesSubplot at 0x1dd22ed86a0>"
      ]
     },
     "execution_count": 15,
     "metadata": {},
     "output_type": "execute_result"
    },
    {
     "data": {
      "image/png": "[encoded data removed]",
      "text/plain": [
       "<Figure size 432x288 with 1 Axes>"
      ]
     },
     "metadata": {},
     "output_type": "display_data"
    }
   ],
   "source": [
    "lettlest.search_words( ['hennes','hans','ham','hun','han','Han','Hun', '.', ',','og','i']).plot(kind='bar')"
   ]
  },
  {
   "cell_type": "code",
   "execution_count": 16,
   "metadata": {},
   "outputs": [],
   "source": [
    "f = nb.get_corpus_text(urns)"
   ]
  },
  {
   "cell_type": "code",
   "execution_count": 18,
   "metadata": {},
   "outputs": [
    {
     "data": {
      "text/plain": [
       "True"
      ]
     },
     "execution_count": 18,
     "metadata": {},
     "output_type": "execute_result"
    }
   ],
   "source": [
    "nb.normalize_corpus_dataframe(f)"
   ]
  },
  {
   "cell_type": "code",
   "execution_count": 29,
   "metadata": {},
   "outputs": [
    {
     "data": {
      "text/plain": [
       "True"
      ]
     },
     "execution_count": 29,
     "metadata": {},
     "output_type": "execute_result"
    }
   ],
   "source": [
    "r = nb.get_corpus_text(reference)\n",
    "nb.normalize_corpus_dataframe(r)"
   ]
  },
  {
   "cell_type": "code",
   "execution_count": 171,
   "metadata": {},
   "outputs": [
    {
     "data": {
      "text/plain": [
       "True"
      ]
     },
     "execution_count": 171,
     "metadata": {},
     "output_type": "execute_result"
    }
   ],
   "source": [
    "rfil = nb.get_corpus_text(reference_philosopy)\n",
    "nb.normalize_corpus_dataframe(rfil)"
   ]
  },
  {
   "cell_type": "code",
   "execution_count": 27,
   "metadata": {},
   "outputs": [],
   "source": [
    "fstat = f.transpose().describe()"
   ]
  },
  {
   "cell_type": "code",
   "execution_count": 30,
   "metadata": {},
   "outputs": [],
   "source": [
    "rstat = r.transpose().describe()"
   ]
  },
  {
   "cell_type": "code",
   "execution_count": 173,
   "metadata": {},
   "outputs": [],
   "source": [
    "rfilstat = rfil.transpose().describe()"
   ]
  },
  {
   "cell_type": "code",
   "execution_count": 31,
   "metadata": {},
   "outputs": [
    {
     "data": {
      "text/plain": [
       "count    200.000000\n",
       "mean       0.084651\n",
       "std        0.041713\n",
       "min        0.000000\n",
       "25%        0.065390\n",
       "50%        0.080743\n",
       "75%        0.097636\n",
       "max        0.452830\n",
       "Name: ., dtype: float64"
      ]
     },
     "execution_count": 31,
     "metadata": {},
     "output_type": "execute_result"
    }
   ],
   "source": [
    "rstat['.']"
   ]
  },
  {
   "cell_type": "code",
   "execution_count": 86,
   "metadata": {},
   "outputs": [
    {
     "data": {
      "text/plain": [
       "count    81.000000\n",
       "mean      0.110462\n",
       "std       0.020922\n",
       "min       0.071821\n",
       "25%       0.097661\n",
       "50%       0.109420\n",
       "75%       0.126602\n",
       "max       0.163251\n",
       "Name: ., dtype: float64"
      ]
     },
     "execution_count": 86,
     "metadata": {},
     "output_type": "execute_result"
    }
   ],
   "source": [
    "fstat['.']"
   ]
  },
  {
   "cell_type": "code",
   "execution_count": 174,
   "metadata": {},
   "outputs": [
    {
     "data": {
      "text/plain": [
       "count    199.000000\n",
       "mean       0.071157\n",
       "std        0.023105\n",
       "min        0.019843\n",
       "25%        0.056834\n",
       "50%        0.066185\n",
       "75%        0.080278\n",
       "max        0.157480\n",
       "Name: ., dtype: float64"
      ]
     },
     "execution_count": 174,
     "metadata": {},
     "output_type": "execute_result"
    }
   ],
   "source": [
    "rfilstat['.']"
   ]
  },
  {
   "cell_type": "code",
   "execution_count": 88,
   "metadata": {},
   "outputs": [
    {
     "data": {
      "text/plain": [
       "200"
      ]
     },
     "execution_count": 88,
     "metadata": {},
     "output_type": "execute_result"
    }
   ],
   "source": [
    "len(reference)"
   ]
  },
  {
   "cell_type": "code",
   "execution_count": 33,
   "metadata": {},
   "outputs": [
    {
     "data": {
      "text/plain": [
       "81.0"
      ]
     },
     "execution_count": 33,
     "metadata": {},
     "output_type": "execute_result"
    }
   ],
   "source": [
    "fstat['.']['count']"
   ]
  },
  {
   "cell_type": "code",
   "execution_count": 197,
   "metadata": {},
   "outputs": [
    {
     "data": {
      "text/plain": [
       "2010050408081    2.162295\n",
       "2008030604009    1.909516\n",
       "2010052003119    1.929124\n",
       "2008020804058    1.507740\n",
       "2008011000089    2.193646\n",
       "2009093004032    5.394805\n",
       "2009030304067    1.803493\n",
       "2007081300029    2.391304\n",
       "2012121105068    2.258824\n",
       "2007111301009    2.517018\n",
       "2007081004056    5.981763\n",
       "2013013006060    3.364807\n",
       "2012092705081    2.233141\n",
       "2012112808086    3.392857\n",
       "2012112808117    4.329787\n",
       "2012121007004    1.960630\n",
       "2014070905019    1.972403\n",
       "2012062505048    3.718468\n",
       "2012092705069    2.733524\n",
       "2012092706103    3.316964\n",
       "2010050503036    1.450000\n",
       "2009042004082    2.857868\n",
       "2010022303036    1.207843\n",
       "2011070708028    1.841880\n",
       "2013082808049    3.089552\n",
       "2011060106065    2.182119\n",
       "2013061108167    3.359155\n",
       "2011060606073    1.704604\n",
       "2011071308024    1.698539\n",
       "2009021004116    2.376623\n",
       "                   ...   \n",
       "2013012506031    2.069288\n",
       "2013110405040    2.442177\n",
       "2013103006006    1.218009\n",
       "2014071107075    1.150235\n",
       "2013022506121    2.504545\n",
       "2013010408136    2.189046\n",
       "2013041206092    2.571754\n",
       "2013042506004    2.029900\n",
       "2013013105010    2.879012\n",
       "2013010308026    1.385417\n",
       "2014030506045    3.102484\n",
       "2012062205051    2.757576\n",
       "2010041906020    0.992933\n",
       "2010061808106    1.371179\n",
       "2009020904093    3.036458\n",
       "2009042804073    4.234286\n",
       "2008021804062    3.490411\n",
       "2012111506021    7.202532\n",
       "2013012306037    2.209770\n",
       "2013011506063    1.698565\n",
       "2007120704014    7.435115\n",
       "2012070606159    1.375000\n",
       "2009050800059    8.562500\n",
       "2012101908117    5.172589\n",
       "2009042800069    2.556497\n",
       "2007110800046    3.052632\n",
       "2007112101051    1.908847\n",
       "2007110901019    2.003484\n",
       "2007082400013    2.138498\n",
       "2007112601001    7.409091\n",
       "Length: 81, dtype: float64"
      ]
     },
     "execution_count": 197,
     "metadata": {},
     "output_type": "execute_result"
    }
   ],
   "source": [
    "f.transpose()['.']/f.transpose()[',']"
   ]
  },
  {
   "cell_type": "code",
   "execution_count": 218,
   "metadata": {},
   "outputs": [],
   "source": [
    "import pandas as pd\n",
    "\n",
    "def ratio(frame, val1, val2):\n",
    "    return pd.DataFrame(frame.dropna()[val1]/frame.dropna()[val2]).dropna()"
   ]
  },
  {
   "cell_type": "code",
   "execution_count": 202,
   "metadata": {},
   "outputs": [],
   "source": [
    "import matplotlib.pyplot as plt\n",
    "import numpy as np\n",
    "import matplotlib.mlab as mlab\n",
    "import math\n",
    "import numpy as np\n",
    "import scipy.stats\n",
    "\n",
    "def nplot(dfstat, value):\n",
    "    \n",
    "\n",
    "    mu = dfstat[value]['mean'] \n",
    "    sigma = dfstat[value]['std']\n",
    "    x = np.linspace(mu - 3*sigma, mu + 3*sigma, 100)\n",
    "    ax = plt.subplot(111)\n",
    "    ax.plot(x, scipy.stats.norm.pdf(x, mu, sigma))\n",
    "    return ax\n",
    "\n",
    "def twoplot(onestat, twostat, value, legends=['target', 'reference']):\n",
    "    ax = plt.subplot(211)\n",
    "\n",
    "    one_mu = onestat[value][\"mean\"]\n",
    "    two_mu = twostat[value][\"mean\"]\n",
    "    one_sigma = onestat[value][\"std\"]\n",
    "    two_sigma = twostat[value][\"std\"]\n",
    "    mu = (one_mu + two_mu)/2\n",
    "    left_sigma = min(one_sigma, two_sigma)\n",
    "    right_sigma = max(one_sigma, two_sigma)\n",
    "    x =  np.linspace(mu - 4*left_sigma, mu + 4*right_sigma, 100)\n",
    "    ax.plot(x, scipy.stats.norm.pdf(x, one_mu, one_sigma))\n",
    "    #ax2 = plt.subplot(212, sharex=ax1)\n",
    "    ax.plot(x, scipy.stats.norm.pdf(x, two_mu, two_sigma))\n",
    "    ax.legend(legends)\n",
    "    return ax\n",
    "\n",
    "def histplot(numbers, bins=5, color='blue', axis = \"\", figsize=(30,8)):\n",
    "    if axis == \"\":\n",
    "        fig = plt.figure(figsize=figsize)\n",
    "        ax = fig.add_subplot(121)\n",
    "    else:\n",
    "        ax = axis\n",
    "    numBins = bins\n",
    "    ax.hist(numbers,density=True,bins=numBins, color=color,alpha=0.8)\n",
    "    return ax\n",
    "\n"
   ]
  },
  {
   "cell_type": "code",
   "execution_count": 228,
   "metadata": {},
   "outputs": [
    {
     "data": {
      "text/plain": [
       "2014071608005    1.147518\n",
       "2010080620010    0.787740\n",
       "2013070305001    2.796230\n",
       "2011080408007    1.542553\n",
       "2014092638010    1.917619\n",
       "2006110701097    1.321142\n",
       "2008011004119    2.542735\n",
       "2011052606028    0.960072\n",
       "2014071006011    2.316456\n",
       "2015102908074    1.588976\n",
       "2013070938146    1.609290\n",
       "2012012008190    1.348148\n",
       "2014022806058    3.504692\n",
       "2013012508031    1.752464\n",
       "2014110708096    1.020364\n",
       "2009061104013    0.000000\n",
       "2010083020011    3.063187\n",
       "2011033005029    2.940568\n",
       "2013040807150    1.564054\n",
       "2013121105055    1.347791\n",
       "2014040408011    1.770302\n",
       "2013041908144    1.540299\n",
       "2009050704014    1.836172\n",
       "2012121207057    1.295455\n",
       "2010100709016    3.582418\n",
       "2013041908105    1.831176\n",
       "2010113008010    1.684380\n",
       "2014120208247    0.853902\n",
       "2016020907593    2.130081\n",
       "2007082300064    3.329412\n",
       "                   ...   \n",
       "2008022500032    1.164783\n",
       "2008102200006    2.541746\n",
       "2007091801008    0.500471\n",
       "2010042003098    1.273632\n",
       "2011031505061    1.685748\n",
       "2014072305051    2.323193\n",
       "2013092407174    0.994833\n",
       "2012091908040    1.826316\n",
       "2014070406041    0.887951\n",
       "2008112400020    1.790346\n",
       "2012120705014    0.542601\n",
       "2014022008077    1.084656\n",
       "2016021808020    0.737045\n",
       "2007062904016    1.274562\n",
       "2007091701081    0.516000\n",
       "2013010806077    1.349167\n",
       "2014061806142    1.691479\n",
       "2013121805042    1.678151\n",
       "2011081206063    2.545455\n",
       "2010031803028    0.751292\n",
       "2014061705148    0.798471\n",
       "2011041408072    0.635378\n",
       "2007100404053    6.037037\n",
       "2009042904025    1.273633\n",
       "2013121805056    2.000000\n",
       "2007121104089    3.740550\n",
       "2012100907173    2.229860\n",
       "2011081708058    1.020685\n",
       "2010052003119    1.929124\n",
       "2016030809599    3.671233\n",
       "Name: 0, Length: 199, dtype: float64"
      ]
     },
     "execution_count": 228,
     "metadata": {},
     "output_type": "execute_result"
    }
   ],
   "source": [
    "ratio(r.transpose(),'.',',')[0]"
   ]
  },
  {
   "cell_type": "code",
   "execution_count": 248,
   "metadata": {},
   "outputs": [
    {
     "data": {
      "image/png": "[encoded data removed]",
      "text/plain": [
       "<Figure size 720x360 with 1 Axes>"
      ]
     },
     "metadata": {},
     "output_type": "display_data"
    }
   ],
   "source": [
    "plt.figure(figsize=(10,5))\n",
    "plt.hist(ratio(rfil.transpose(),'.',',')[0], bins=20, density=True, color='orange', alpha=0.6);\n",
    "plt.hist(ratio(f.transpose(),'.',',')[0], bins=10, density=True, color='blue', alpha=0.6);\n",
    "plt.tight_layout()"
   ]
  },
  {
   "cell_type": "code",
   "execution_count": 250,
   "metadata": {},
   "outputs": [
    {
     "data": {
      "image/png": "[encoded data removed]",
      "text/plain": [
       "<Figure size 720x360 with 1 Axes>"
      ]
     },
     "metadata": {},
     "output_type": "display_data"
    }
   ],
   "source": [
    "plt.figure(figsize=(10,5))\n",
    "plt.hist(f.transpose()[','], bins=10, density=True, color='blue', alpha=0.6);\n",
    "plt.hist(r.transpose()[','], bins=20, density=True, color='orange', alpha = 0.6);\n",
    "plt.tight_layout()"
   ]
  },
  {
   "cell_type": "code",
   "execution_count": null,
   "metadata": {},
   "outputs": [],
   "source": []
  }
 ],
 "metadata": {
  "hide_input": false,
  "kernelspec": {
   "display_name": "Python 3",
   "language": "python",
   "name": "python3"
  },
  "language_info": {
   "codemirror_mode": {
    "name": "ipython",
    "version": 3
   },
   "file_extension": ".py",
   "mimetype": "text/x-python",
   "name": "python",
   "nbconvert_exporter": "python",
   "pygments_lexer": "ipython3",
   "version": "3.6.5"
  }
 },
 "nbformat": 4,
 "nbformat_minor": 2
}
